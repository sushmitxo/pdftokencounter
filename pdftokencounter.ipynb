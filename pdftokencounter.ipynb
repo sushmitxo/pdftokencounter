{
  "nbformat": 4,
  "nbformat_minor": 0,
  "metadata": {
    "colab": {
      "provenance": []
    },
    "kernelspec": {
      "name": "python3",
      "display_name": "Python 3"
    },
    "language_info": {
      "name": "python"
    }
  },
  "cells": [
    {
      "cell_type": "code",
      "source": [
        "!pip install -r requirements.txt"
      ],
      "metadata": {
        "id": "n6MlPFZVn5gZ"
      },
      "execution_count": null,
      "outputs": []
    },
    {
      "cell_type": "code",
      "execution_count": 8,
      "metadata": {
        "colab": {
          "base_uri": "https://localhost:8080/"
        },
        "id": "vy7Nk686mLK4",
        "outputId": "1ff06c14-3e84-4f49-cf01-36d97063f182"
      },
      "outputs": [
        {
          "output_type": "stream",
          "name": "stdout",
          "text": [
            "742460\n"
          ]
        }
      ],
      "source": [
        "! python pdf_token_counter.py 'PATH TO YOUR PDF'"
      ]
    }
  ]
}